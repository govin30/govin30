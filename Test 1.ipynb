{
 "cells": [
  {
   "cell_type": "code",
   "execution_count": 51,
   "id": "62a01c62-5880-4f97-8ac3-f1e06084cfe9",
   "metadata": {},
   "outputs": [
    {
     "name": "stdout",
     "output_type": "stream",
     "text": [
      "a) Gaps in between years = [60, 177, 131, 199, 254, 318, 190, 360, 336, 202, 375, 485, 632, 500, 575, 791, 861, 1112, 1109, 901, 1401, 458, 1110, 1577, 1116, 834, 968, 1378, 1440, 1032, 453, 1077, 968, 1308, 996, 1277, 1491, 1395, 1661, 1815, 804, 864, 1492, 2235, 2398, 2179, 1748, 520, -1375, 1456, 1415, 1718, 1507, 1833, 1639, 1104, 2048, 2890, 2290, -2067, 6260]\n",
      "\n",
      "b) The maximum gap size is 6260\n",
      "\n",
      "c) The percentage of gaps higher than $1000 is 52.459016393442624%\n",
      "\n",
      "d) Dictionary of year and gaps is {1961: 60, 1962: 177, 1963: 131, 1964: 199, 1965: 254, 1966: 318, 1967: 190, 1968: 360, 1969: 336, 1970: 202, 1971: 375, 1972: 485, 1973: 632, 1974: 500, 1975: 575, 1976: 791, 1977: 861, 1978: 1112, 1979: 1109, 1980: 901, 1981: 1401, 1982: 458, 1983: 1110, 1984: 1577, 1985: 1116, 1986: 834, 1987: 968, 1988: 1378, 1989: 1440, 1990: 1032, 1991: 453, 1992: 1077, 1993: 968, 1994: 1308, 1995: 996, 1996: 1277, 1997: 1491, 1998: 1395, 1999: 1661, 2000: 1815, 2001: 804, 2002: 864, 2003: 1492, 2004: 2235, 2005: 2398, 2006: 2179, 2007: 1748, 2008: 520, 2009: -1375, 2010: 1456, 2011: 1415, 2012: 1718, 2013: 1507, 2014: 1833, 2015: 1639, 2016: 1104, 2017: 2048, 2018: 2890, 2019: 2290, 2020: -2067, 2021: 6260}\n",
      "\n",
      "e) Year with maximum GDP per capita increase is 2021\n"
     ]
    }
   ],
   "source": [
    "T = T=[3007,3067,3244,3375,3574,3828,4146,4336,4696,5032,5234,5609,6094,6726,7226,7801,8592,9453,10565,11674,12575,13976,14434,15544,17121,18237,19071,20039,21417,22857,23889,24342,25419,26387,27695,28691,29968,31459,32854,34515,36330,37134,37998,39490,41725,44123,46302,48050,48570,47195,48651,50066,51784,53291,55124,56763,57867,59915,62805,65095,63028,69288]\n",
    "gaps = []\n",
    "for i in range(1, len(T)):\n",
    "    gaps.append(T[i] - T[i-1])\n",
    "\n",
    "percentage_1000 = (sum(1 for gap in gaps if gap > 1000) / len(gaps)) * 100\n",
    "\n",
    "start_year = 1961\n",
    "dictionary = {start_year + i: gaps[i] for i in range(len(gaps))}\n",
    "\n",
    "max_gap = max(dictionary, key=dictionary.get)\n",
    "\n",
    "print(\"a) Gaps in between years = {}\".format(gaps))\n",
    "print(\"\\nb) The maximum gap size is {}\".format(max(gaps)))\n",
    "print(\"\\nc) The percentage of gaps higher than $1000 is {}%\".format(percentage_1000))\n",
    "print(\"\\nd) Dictionary of year and gaps is {}\".format(dictionary))\n",
    "print(\"\\ne) Year with maximum GDP per capita increase is {}\".format(max_gap))\n"
   ]
  },
  {
   "cell_type": "code",
   "execution_count": null,
   "id": "aee0ca8b-2cf2-4e93-b94e-d5eded9d8232",
   "metadata": {},
   "outputs": [],
   "source": []
  }
 ],
 "metadata": {
  "kernelspec": {
   "display_name": "Python 3 (ipykernel)",
   "language": "python",
   "name": "python3"
  },
  "language_info": {
   "codemirror_mode": {
    "name": "ipython",
    "version": 3
   },
   "file_extension": ".py",
   "mimetype": "text/x-python",
   "name": "python",
   "nbconvert_exporter": "python",
   "pygments_lexer": "ipython3",
   "version": "3.12.7"
  }
 },
 "nbformat": 4,
 "nbformat_minor": 5
}
